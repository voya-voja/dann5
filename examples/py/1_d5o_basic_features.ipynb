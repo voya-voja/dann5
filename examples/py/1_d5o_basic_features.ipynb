{
 "cells": [
  {
   "cell_type": "markdown",
   "metadata": {},
   "source": [
    "# Factoring with Dann5 d5o and D-Wave Ocean and other basic features\n",
    "\n",
    "This Jupyter Notebook demonstrates:\n",
    "1.\ta programmatic conversion of a problem statement into a Qubo binary quadratic model (BQM) for D-Wave quantum annealing computer (QAC) execution by using [Dann5 d5o library](https://github.com/voya-voja/dann5), \n",
    "2.\tsubmission of the Qubo to the D-Wave system and retrieval of corresponding solution samples,  and \n",
    "3.\tconversion of the retrieved solution samples  into human readable form by using Dann5 d5o library.\n",
    "\n",
    "In the [Leap factoring demo](https://cloud.dwavesys.com/learning/user/nebojsa_2evojinovic_40rogers_2ecom/notebooks/leap/demos/factoring/01-factoring-overview.ipynb), you saw how the D-Wave system can be used to factor an integer by running a multiplication circuit in reverse. The factoring demo shows how you can solve a [constraint satisfaction problem (CSP)]( https://docs.ocean.dwavesys.com/en/stable/concepts/csp.html) on a QAC. In a way **Dann5 d5o programming framework** is an extension of python programming langue that provides a human friendly generalization of CSP implementation, which permits QAC programmers to use constructs such as data types definitions, equation/condition statements, programmable routines and functions, etc.\n",
    "\n",
    "So, if you have [installed Dann5 d5o library](https://github.com/voya-voja/dann5/blob/master/README.md) and all prerequisites, lets start."
   ]
  },
  {
   "cell_type": "markdown",
   "metadata": {},
   "source": [
    "## Defining d5o quantum variables and equations"
   ]
  },
  {
   "cell_type": "code",
   "execution_count": 1,
   "metadata": {},
   "outputs": [],
   "source": [
    "from dann5.d5o import Qvar, Qequation"
   ]
  },
  {
   "cell_type": "markdown",
   "metadata": {},
   "source": [
    "> The line above allows definition of **Q** (quantum) **variables and equations** in the rest of the python code"
   ]
  },
  {
   "cell_type": "markdown",
   "metadata": {},
   "source": [
    "To define a Q variable **a** as a whole number with **4 Q bits in S**(uperposition) state, it is as simple as:"
   ]
  },
  {
   "cell_type": "code",
   "execution_count": 2,
   "metadata": {},
   "outputs": [],
   "source": [
    "var = Qvar(4, \"a\")"
   ]
  },
  {
   "cell_type": "markdown",
   "metadata": {},
   "source": [
    "> Note that **'var'** is a python variable with a reverence to the defined Q variable **'a'**."
   ]
  },
  {
   "cell_type": "markdown",
   "metadata": {},
   "source": [
    "There is no reason that python and Q variable can't have the same name, like in the following line. **A python variable has a reference to a defined Q variable with the same name 'b'**."
   ]
  },
  {
   "cell_type": "code",
   "execution_count": 3,
   "metadata": {},
   "outputs": [],
   "source": [
    "b = Qvar(3, \"b\")"
   ]
  },
  {
   "cell_type": "markdown",
   "metadata": {},
   "source": [
    "> The Q variable 'b' is of **Qwhole type with U**(ndefined) **value**, meaning that **at least one of its Qbits is in S state**. In case of this definition of Q variable ‘b’, all 3 Qbits are in S state."
   ]
  },
  {
   "cell_type": "markdown",
   "metadata": {},
   "source": [
    "Both Q variables, 'a' and 'b' are unknown. If we want to define a deterministic Q variable we specify its initialization value:"
   ]
  },
  {
   "cell_type": "code",
   "execution_count": 4,
   "metadata": {},
   "outputs": [],
   "source": [
    "A = Qvar(\"A\", 15)"
   ]
  },
  {
   "cell_type": "markdown",
   "metadata": {},
   "source": [
    "> Like in python, a Q variable 'A' is different from Q variable 'a', i.e. d5o is case sensitive.\n",
    "\n",
    "The Q variable 'A' is a 4 Qbit Qwhole number with all Qbits set to 1, i.e. binary 1111.\n",
    "\n",
    "We can now define Q addition equation by initializing Qequation object with the result Q variable:"
   ]
  },
  {
   "cell_type": "code",
   "execution_count": 5,
   "metadata": {},
   "outputs": [],
   "source": [
    "eA = Qequation(A)"
   ]
  },
  {
   "cell_type": "markdown",
   "metadata": {},
   "source": [
    "... and assign the addition expression **'a' + 'b'** as a python expression **'var' + 'b'**, as python 'var' variable references a definition of Q variable 'a':"
   ]
  },
  {
   "cell_type": "code",
   "execution_count": 6,
   "metadata": {},
   "outputs": [
    {
     "data": {
      "text/plain": [
       "<dann5.d5o.Qequation at 0x1fa93f81330>"
      ]
     },
     "execution_count": 6,
     "metadata": {},
     "output_type": "execute_result"
    }
   ],
   "source": [
    "eA.assign(var + b)"
   ]
  },
  {
   "cell_type": "code",
   "execution_count": 7,
   "metadata": {},
   "outputs": [
    {
     "name": "stdout",
     "output_type": "stream",
     "text": [
      "| A0 = 1 | = a0 ^ b0\n",
      "| A1 = 1 | = a1 + b1 + #|A0|\n",
      "| A2 = 1 | = a2 + b2 + #|A1|\n",
      "| A3 = 1 | = a3 ^ #|A2|\n",
      "| A4 = 0 | = #|A3|\n",
      "\n"
     ]
    }
   ],
   "source": [
    "print(eA.toString(True, -1))"
   ]
  },
  {
   "cell_type": "markdown",
   "metadata": {},
   "source": [
    "> The resulting 'eA' Q equation represents a CSP for **'A' = 'a' + 'b'** statement, where 'a' and 'b' are unknown and expected result 'A' is 15.\n",
    "\n",
    "Now we can convert the Q equation 'eA' to Qubo binary quadratic model (DQM) form 'gQ_eA'. Here we are requesting a **'generic' [Qubo BQM](https://docs.dwavesys.com/docs/latest/c_gs_3.html#qubo)** of 'eA' Q equation, which means that deterministic variables are nor substituted with their values.  "
   ]
  },
  {
   "cell_type": "code",
   "execution_count": 8,
   "metadata": {},
   "outputs": [
    {
     "name": "stdout",
     "output_type": "stream",
     "text": [
      "{('#|A0|', '#|A0|'): 5.0, ('#|A0|', '#|A1|'): -4.0, ('#|A0|', 'A1'): -2.0, ('#|A1|', '#|A1|'): 5.0, ('#|A1|', '#|A2|'): -4.0, ('#|A1|', 'A2'): -2.0, ('#|A2|', '#|A2|'): 5.0, ('#|A2|', 'A3'): -2.0, ('#|A2|', 'A4'): -4.0, ('A0', '#|A0|'): 4.0, ('A0', 'A0'): 1.0, ('A1', '#|A1|'): 4.0, ('A1', 'A1'): 1.0, ('A2', '#|A2|'): 4.0, ('A2', 'A2'): 1.0, ('A3', 'A3'): 1.0, ('A3', 'A4'): 4.0, ('A4', 'A4'): 4.0, ('a0', '#|A0|'): -4.0, ('a0', 'A0'): -2.0, ('a0', 'a0'): 1.0, ('a0', 'b0'): 2.0, ('a1', '#|A0|'): 2.0, ('a1', '#|A1|'): -4.0, ('a1', 'A1'): -2.0, ('a1', 'a1'): 1.0, ('a1', 'b1'): 2.0, ('a2', '#|A1|'): 2.0, ('a2', '#|A2|'): -4.0, ('a2', 'A2'): -2.0, ('a2', 'a2'): 1.0, ('a2', 'b2'): 2.0, ('a3', '#|A2|'): 2.0, ('a3', 'A3'): -2.0, ('a3', 'A4'): -4.0, ('a3', 'a3'): 1.0, ('b0', '#|A0|'): -4.0, ('b0', 'A0'): -2.0, ('b0', 'b0'): 1.0, ('b1', '#|A0|'): 2.0, ('b1', '#|A1|'): -4.0, ('b1', 'A1'): -2.0, ('b1', 'b1'): 1.0, ('b2', '#|A1|'): 2.0, ('b2', '#|A2|'): -4.0, ('b2', 'A2'): -2.0, ('b2', 'b2'): 1.0}\n"
     ]
    }
   ],
   "source": [
    "gQ_eA = eA.qubo(False)\n",
    "print(gQ_eA)"
   ]
  },
  {
   "cell_type": "markdown",
   "metadata": {},
   "source": [
    "To prepare a Qubo BQM of the Q equation 'eA' for processing on QAC, we need to create a **'finalized'** version."
   ]
  },
  {
   "cell_type": "code",
   "execution_count": 9,
   "metadata": {},
   "outputs": [
    {
     "name": "stdout",
     "output_type": "stream",
     "text": [
      "{('#|A0|', '#|A0|'): 7.0, ('#|A0|', '#|A1|'): -4.0, ('#|A1|', '#|A1|'): 7.0, ('#|A1|', '#|A2|'): -4.0, ('#|A2|', '#|A2|'): 7.0, ('a0', '#|A0|'): -4.0, ('a0', 'a0'): -1.0, ('a0', 'b0'): 2.0, ('a1', '#|A0|'): 2.0, ('a1', '#|A1|'): -4.0, ('a1', 'a1'): -1.0, ('a1', 'b1'): 2.0, ('a2', '#|A1|'): 2.0, ('a2', '#|A2|'): -4.0, ('a2', 'a2'): -1.0, ('a2', 'b2'): 2.0, ('a3', '#|A2|'): 2.0, ('a3', 'a3'): -1.0, ('b0', '#|A0|'): -4.0, ('b0', 'b0'): -1.0, ('b1', '#|A0|'): 2.0, ('b1', '#|A1|'): -4.0, ('b1', 'b1'): -1.0, ('b2', '#|A1|'): 2.0, ('b2', '#|A2|'): -4.0, ('b2', 'b2'): -1.0}\n"
     ]
    }
   ],
   "source": [
    "fQ_eA = eA.qubo()\n",
    "print(fQ_eA)"
   ]
  },
  {
   "cell_type": "markdown",
   "metadata": {},
   "source": [
    "> If we compare the two Qubo BQM's, we will see that the second **does not have any [linear or quadratic pairs](https://docs.dwavesys.com/docs/latest/c_gs_3.html#objective-functions) containing Qbit definitions of deterministic Q variable(s)**, i.e. Q variable 'A' Qbit's definitions {A0 - A4} have been substituted with their values in 'generic' Qubo BQM and the resulting Qubo BQM has been normalized to make a 'finalized' version of Qubo BQM for Q equation 'eA'."
   ]
  },
  {
   "cell_type": "markdown",
   "metadata": {},
   "source": [
    "## Solving Q equation and reporting results\n",
    "\n",
    "To solve our problem statement *'A' = 'a' + 'b', where 'A' = 15 and 'a'='b'=U(nknown)* defined by Q equation *'eA'* we will use [D-Wave's Exact Solver](https://docs.ocean.dwavesys.com/projects/dimod/en/0.7.0/reference/generated/dimod.reference.samplers.ExactSolver.sample.html):"
   ]
  },
  {
   "cell_type": "code",
   "execution_count": 10,
   "metadata": {},
   "outputs": [],
   "source": [
    "from dimod import ExactSolver\n",
    "exactSolver = ExactSolver()                   # local solver"
   ]
  },
  {
   "cell_type": "markdown",
   "metadata": {},
   "source": [
    "... and execute request *sample_qubo()* to solve *'fQ_eA'*, a 'finalized' Qubo BQM for 'eA' Q equation."
   ]
  },
  {
   "cell_type": "code",
   "execution_count": 11,
   "metadata": {},
   "outputs": [],
   "source": [
    "sampleset = exactSolver.sample_qubo(fQ_eA)"
   ]
  },
  {
   "cell_type": "markdown",
   "metadata": {},
   "source": [
    "The **D-Wave sampleset has to be converted into a python dictionary** ('samples'), before it is passed to the Q equation 'eA' to provide solutions in a human readable form: "
   ]
  },
  {
   "cell_type": "code",
   "execution_count": 12,
   "metadata": {},
   "outputs": [
    {
     "name": "stdout",
     "output_type": "stream",
     "text": [
      "a = 10; b = 5; \n",
      "a = 11; b = 4; \n",
      "a = 8; b = 7; \n",
      "a = 9; b = 6; \n",
      "a = 14; b = 1; \n",
      "a = 15; b = 0; \n",
      "a = 12; b = 3; \n",
      "a = 13; b = 2; \n",
      "\n"
     ]
    }
   ],
   "source": [
    "samples = [dict(sample) for sample in sampleset.lowest().samples()]\n",
    "eA.set(samples)\n",
    "print(eA.solutions())"
   ]
  },
  {
   "cell_type": "markdown",
   "metadata": {},
   "source": [
    "> Note that we have used **sampleset.lowest().samples()** to ensure that from teh whole sampleset of all posible solution of Qubo BQM, we retrieve only those with the lowest energy level as the best solution for our CSP described by eA Q equation.\n",
    "\n",
    "By carefully reviewing the returned results you will see that *8 <= 'a' <= 15* and *0 <= 'b' <= 7*, which are appropriate results considering that we set Q variable 'b' to have only 3 Qbits, i.e. imposing additional condition that 'b' cannot be bigger than 7.\n",
    "\n",
    "> If you go back and change only the number of Qbits for variable 'b', the solution set for Q equation eA will be different"
   ]
  },
  {
   "cell_type": "markdown",
   "metadata": {},
   "source": [
    "## Factoring with d5o\n",
    "\n",
    "Back to the [Leap factoring demo](https://cloud.dwavesys.com/learning/user/nebojsa_2evojinovic_40rogers_2ecom/notebooks/leap/demos/factoring/01-factoring-overview.ipynb), the same problem can be represented in d5o as *P = x * y; where P = 21 and 'x' and 'y' are 3 Qbits unknown Q whole numbers*:"
   ]
  },
  {
   "cell_type": "code",
   "execution_count": 13,
   "metadata": {},
   "outputs": [
    {
     "name": "stdout",
     "output_type": "stream",
     "text": [
      "| P0 = 1 | = x0 & y0\n",
      "| P1 = 0 | = x0 & y1 ^ x1 & y0\n",
      "| P2 = 1 | = x0 & y2 + #|P1| + x1 & y1 ^ x2 & y0\n",
      "| P3 = 0 | = x1 & y2 + #|x0 & y2 + #|P1| + x1 & y1| + #|P2| ^ x2 & y1\n",
      "| P4 = 1 | = x2 & y2 + #|x1 & y2 + #|x0 & y2 + #|P1| + x1 & y1| + #|P2|| + #|P3|\n",
      "| P5 = 0 | = #|P4|\n",
      "\n"
     ]
    }
   ],
   "source": [
    "x = Qvar(3, \"x\")\n",
    "y = Qvar(3, 'y')\n",
    "eP = Qequation(Qvar(\"P\", 21))\n",
    "eP.assign(x * y)\n",
    "print(eP.toString())"
   ]
  },
  {
   "cell_type": "markdown",
   "metadata": {},
   "source": [
    "The next line prints 'eP' Q equation decomposed in elementary circuit logic:"
   ]
  },
  {
   "cell_type": "code",
   "execution_count": 14,
   "metadata": {},
   "outputs": [
    {
     "name": "stdout",
     "output_type": "stream",
     "text": [
      "| P0 = 1 | = x0 & y0\n",
      "| P1 = 0 | = &|100| ^ &|110|\n",
      "\t&|100| = x0 & y1\n",
      "\t&|110| = x1 & y0\n",
      "| P2 = 1 | = +|200| ^ &|210|\n",
      "\t+|200| = &|2001| + #|P1| + &|2021|\n",
      "\t&|2001| = x0 & y2\n",
      "\t&|2021| = x1 & y1\n",
      "\t&|210| = x2 & y0\n",
      "| P3 = 0 | = +|300| ^ &|310|\n",
      "\t+|300| = &|3001| + #|+|200|| + #|P2|\n",
      "\t&|3001| = x1 & y2\n",
      "\t&|310| = x2 & y1\n",
      "| P4 = 1 | = &|400| + #|+|300|| + #|P3|\n",
      "\t&|400| = x2 & y2\n",
      "| P5 = 0 | = #|P4|\n",
      "\n"
     ]
    }
   ],
   "source": [
    "print(eP.toString(True))"
   ]
  },
  {
   "cell_type": "markdown",
   "metadata": {},
   "source": [
    "> The elementary circuits and Qbit definitions of Q variables are the nodes of Qubo BQM for 'eP' Q equation."
   ]
  },
  {
   "cell_type": "code",
   "execution_count": 15,
   "metadata": {},
   "outputs": [
    {
     "name": "stdout",
     "output_type": "stream",
     "text": [
      "{('#|P1|', '#|P1|'): 5.0, ('#|P1|', '#|x0 & y2 + #|x0 & y1 ^ x1 & y0| + x1 & y1|'): -4.0, ('#|P1|', 'x0 & y2 + #|x0 & y1 ^ x1 & y0| + x1 & y1'): -2.0, ('#|P1|', 'x1 & y1'): 2.0, ('#|P2|', '#|P2|'): 5.0, ('#|P2|', '#|x1 & y2 + #|x0 & y2 + #|x0 & y1 ^ x1 & y0| + x1 & y1| + #|x0 & y2 + #|x0 & y1 ^ x1 & y0| + x1 & y1 ^ x2 & y0||'): -4.0, ('#|P2|', 'x1 & y2 + #|x0 & y2 + #|x0 & y1 ^ x1 & y0| + x1 & y1| + #|x0 & y2 + #|x0 & y1 ^ x1 & y0| + x1 & y1 ^ x2 & y0|'): -2.0, ('#|P3|', '#|P3|'): 5.0, ('#|P3|', 'P4'): -2.0, ('#|P3|', 'P5'): -4.0, ('#|x0 & y2 + #|x0 & y1 ^ x1 & y0| + x1 & y1|', '#|P2|'): 2.0, ('#|x0 & y2 + #|x0 & y1 ^ x1 & y0| + x1 & y1|', '#|x0 & y2 + #|x0 & y1 ^ x1 & y0| + x1 & y1|'): 5.0, ('#|x0 & y2 + #|x0 & y1 ^ x1 & y0| + x1 & y1|', '#|x1 & y2 + #|x0 & y2 + #|x0 & y1 ^ x1 & y0| + x1 & y1| + #|x0 & y2 + #|x0 & y1 ^ x1 & y0| + x1 & y1 ^ x2 & y0||'): -4.0, ('#|x0 & y2 + #|x0 & y1 ^ x1 & y0| + x1 & y1|', 'x1 & y2 + #|x0 & y2 + #|x0 & y1 ^ x1 & y0| + x1 & y1| + #|x0 & y2 + #|x0 & y1 ^ x1 & y0| + x1 & y1 ^ x2 & y0|'): -2.0, ('#|x1 & y2 + #|x0 & y2 + #|x0 & y1 ^ x1 & y0| + x1 & y1| + #|x0 & y2 + #|x0 & y1 ^ x1 & y0| + x1 & y1 ^ x2 & y0||', '#|P3|'): 2.0, ('#|x1 & y2 + #|x0 & y2 + #|x0 & y1 ^ x1 & y0| + x1 & y1| + #|x0 & y2 + #|x0 & y1 ^ x1 & y0| + x1 & y1 ^ x2 & y0||', '#|x1 & y2 + #|x0 & y2 + #|x0 & y1 ^ x1 & y0| + x1 & y1| + #|x0 & y2 + #|x0 & y1 ^ x1 & y0| + x1 & y1 ^ x2 & y0||'): 5.0, ('#|x1 & y2 + #|x0 & y2 + #|x0 & y1 ^ x1 & y0| + x1 & y1| + #|x0 & y2 + #|x0 & y1 ^ x1 & y0| + x1 & y1 ^ x2 & y0||', 'P4'): -2.0, ('#|x1 & y2 + #|x0 & y2 + #|x0 & y1 ^ x1 & y0| + x1 & y1| + #|x0 & y2 + #|x0 & y1 ^ x1 & y0| + x1 & y1 ^ x2 & y0||', 'P5'): -4.0, ('P0', 'P0'): 3.0, ('P1', '#|P1|'): 4.0, ('P1', 'P1'): 1.0, ('P2', '#|P2|'): 4.0, ('P2', 'P2'): 1.0, ('P3', '#|P3|'): 4.0, ('P3', 'P3'): 1.0, ('P4', 'P4'): 1.0, ('P4', 'P5'): 4.0, ('P5', 'P5'): 4.0, ('x0', 'P0'): -2.0, ('x0', 'x0'): 0.0, ('x0', 'x0 & y1'): -2.0, ('x0', 'x0 & y2'): -2.0, ('x0', 'y0'): 1.0, ('x0', 'y1'): 1.0, ('x0', 'y2'): 1.0, ('x0 & y1', '#|P1|'): -4.0, ('x0 & y1', 'P1'): -2.0, ('x0 & y1', 'x0 & y1'): 4.0, ('x0 & y1', 'x1 & y0'): 2.0, ('x0 & y2', '#|P1|'): 2.0, ('x0 & y2', '#|x0 & y2 + #|x0 & y1 ^ x1 & y0| + x1 & y1|'): -4.0, ('x0 & y2', 'x0 & y2'): 4.0, ('x0 & y2', 'x0 & y2 + #|x0 & y1 ^ x1 & y0| + x1 & y1'): -2.0, ('x0 & y2', 'x1 & y1'): 2.0, ('x0 & y2 + #|x0 & y1 ^ x1 & y0| + x1 & y1', '#|P2|'): -4.0, ('x0 & y2 + #|x0 & y1 ^ x1 & y0| + x1 & y1', '#|x0 & y2 + #|x0 & y1 ^ x1 & y0| + x1 & y1|'): 4.0, ('x0 & y2 + #|x0 & y1 ^ x1 & y0| + x1 & y1', 'P2'): -2.0, ('x0 & y2 + #|x0 & y1 ^ x1 & y0| + x1 & y1', 'x0 & y2 + #|x0 & y1 ^ x1 & y0| + x1 & y1'): 2.0, ('x0 & y2 + #|x0 & y1 ^ x1 & y0| + x1 & y1', 'x2 & y0'): 2.0, ('x1', 'x1'): 0.0, ('x1', 'x1 & y0'): -2.0, ('x1', 'x1 & y1'): -2.0, ('x1', 'x1 & y2'): -2.0, ('x1', 'y0'): 1.0, ('x1', 'y1'): 1.0, ('x1', 'y2'): 1.0, ('x1 & y0', '#|P1|'): -4.0, ('x1 & y0', 'P1'): -2.0, ('x1 & y0', 'x1 & y0'): 4.0, ('x1 & y1', '#|x0 & y2 + #|x0 & y1 ^ x1 & y0| + x1 & y1|'): -4.0, ('x1 & y1', 'x0 & y2 + #|x0 & y1 ^ x1 & y0| + x1 & y1'): -2.0, ('x1 & y1', 'x1 & y1'): 4.0, ('x1 & y2', '#|P2|'): 2.0, ('x1 & y2', '#|x0 & y2 + #|x0 & y1 ^ x1 & y0| + x1 & y1|'): 2.0, ('x1 & y2', '#|x1 & y2 + #|x0 & y2 + #|x0 & y1 ^ x1 & y0| + x1 & y1| + #|x0 & y2 + #|x0 & y1 ^ x1 & y0| + x1 & y1 ^ x2 & y0||'): -4.0, ('x1 & y2', 'x1 & y2'): 4.0, ('x1 & y2', 'x1 & y2 + #|x0 & y2 + #|x0 & y1 ^ x1 & y0| + x1 & y1| + #|x0 & y2 + #|x0 & y1 ^ x1 & y0| + x1 & y1 ^ x2 & y0|'): -2.0, ('x1 & y2 + #|x0 & y2 + #|x0 & y1 ^ x1 & y0| + x1 & y1| + #|x0 & y2 + #|x0 & y1 ^ x1 & y0| + x1 & y1 ^ x2 & y0|', '#|P3|'): -4.0, ('x1 & y2 + #|x0 & y2 + #|x0 & y1 ^ x1 & y0| + x1 & y1| + #|x0 & y2 + #|x0 & y1 ^ x1 & y0| + x1 & y1 ^ x2 & y0|', '#|x1 & y2 + #|x0 & y2 + #|x0 & y1 ^ x1 & y0| + x1 & y1| + #|x0 & y2 + #|x0 & y1 ^ x1 & y0| + x1 & y1 ^ x2 & y0||'): 4.0, ('x1 & y2 + #|x0 & y2 + #|x0 & y1 ^ x1 & y0| + x1 & y1| + #|x0 & y2 + #|x0 & y1 ^ x1 & y0| + x1 & y1 ^ x2 & y0|', 'P3'): -2.0, ('x1 & y2 + #|x0 & y2 + #|x0 & y1 ^ x1 & y0| + x1 & y1| + #|x0 & y2 + #|x0 & y1 ^ x1 & y0| + x1 & y1 ^ x2 & y0|', 'x1 & y2 + #|x0 & y2 + #|x0 & y1 ^ x1 & y0| + x1 & y1| + #|x0 & y2 + #|x0 & y1 ^ x1 & y0| + x1 & y1 ^ x2 & y0|'): 2.0, ('x1 & y2 + #|x0 & y2 + #|x0 & y1 ^ x1 & y0| + x1 & y1| + #|x0 & y2 + #|x0 & y1 ^ x1 & y0| + x1 & y1 ^ x2 & y0|', 'x2 & y1'): 2.0, ('x2', 'x2'): 0.0, ('x2', 'x2 & y0'): -2.0, ('x2', 'x2 & y1'): -2.0, ('x2', 'x2 & y2'): -2.0, ('x2', 'y0'): 1.0, ('x2', 'y1'): 1.0, ('x2', 'y2'): 1.0, ('x2 & y0', '#|P2|'): -4.0, ('x2 & y0', 'P2'): -2.0, ('x2 & y0', 'x2 & y0'): 4.0, ('x2 & y1', '#|P3|'): -4.0, ('x2 & y1', 'P3'): -2.0, ('x2 & y1', 'x2 & y1'): 4.0, ('x2 & y2', '#|P3|'): 2.0, ('x2 & y2', '#|x1 & y2 + #|x0 & y2 + #|x0 & y1 ^ x1 & y0| + x1 & y1| + #|x0 & y2 + #|x0 & y1 ^ x1 & y0| + x1 & y1 ^ x2 & y0||'): 2.0, ('x2 & y2', 'P4'): -2.0, ('x2 & y2', 'P5'): -4.0, ('x2 & y2', 'x2 & y2'): 4.0, ('y0', 'P0'): -2.0, ('y0', 'x1 & y0'): -2.0, ('y0', 'x2 & y0'): -2.0, ('y0', 'y0'): 0.0, ('y1', 'x0 & y1'): -2.0, ('y1', 'x1 & y1'): -2.0, ('y1', 'x2 & y1'): -2.0, ('y1', 'y1'): 0.0, ('y2', 'x0 & y2'): -2.0, ('y2', 'x1 & y2'): -2.0, ('y2', 'x2 & y2'): -2.0, ('y2', 'y2'): 0.0}\n"
     ]
    }
   ],
   "source": [
    "print(eP.qubo(False))"
   ]
  },
  {
   "cell_type": "code",
   "execution_count": 16,
   "metadata": {},
   "outputs": [],
   "source": [
    "fQ_eP = eP.qubo()"
   ]
  },
  {
   "cell_type": "code",
   "execution_count": 17,
   "metadata": {},
   "outputs": [],
   "source": [
    "sampleset = exactSolver.sample_qubo(fQ_eP)"
   ]
  },
  {
   "cell_type": "code",
   "execution_count": 18,
   "metadata": {},
   "outputs": [
    {
     "name": "stdout",
     "output_type": "stream",
     "text": [
      "x = 3; y = 7; \n",
      "x = 7; y = 3; \n",
      "\n"
     ]
    }
   ],
   "source": [
    "samples = [dict(sample) for sample in sampleset.lowest().samples()]\n",
    "eP.set(samples)\n",
    "print(eP.solutions())"
   ]
  },
  {
   "cell_type": "markdown",
   "metadata": {},
   "source": [
    "## Subtraction and Division\n",
    "\n",
    "d5o allows QAC developers to define a subtraction Q equations... "
   ]
  },
  {
   "cell_type": "code",
   "execution_count": 19,
   "metadata": {},
   "outputs": [
    {
     "name": "stdout",
     "output_type": "stream",
     "text": [
      "dfrnc = 0; a = 7; \n",
      "dfrnc = 1; a = 6; \n",
      "dfrnc = 3; a = 4; \n",
      "dfrnc = 2; a = 5; \n",
      "dfrnc = 6; a = 1; \n",
      "dfrnc = 7; a = 0; \n",
      "dfrnc = 5; a = 2; \n",
      "dfrnc = 4; a = 3; \n",
      "\n"
     ]
    }
   ],
   "source": [
    "a = Qvar(4, 'a')\n",
    "T = Qvar('T', 7)\n",
    "eS = Qequation(T - a)\n",
    "sampleset = exactSolver.sample_qubo(eS.qubo(True, -1))\n",
    "samples = [dict(sample) for sample in sampleset.lowest().samples()]\n",
    "eS.set(samples)\n",
    "print(eS.solutions())"
   ]
  },
  {
   "cell_type": "markdown",
   "metadata": {},
   "source": [
    "... or a division equation."
   ]
  },
  {
   "cell_type": "code",
   "execution_count": 20,
   "metadata": {},
   "outputs": [
    {
     "name": "stdout",
     "output_type": "stream",
     "text": [
      "qtnt = 3; d = 5; \n",
      "qtnt = 5; d = 3; \n",
      "\n"
     ]
    }
   ],
   "source": [
    "d = Qvar(3, 'd')\n",
    "M = Qvar(\"M\", 15)\n",
    "eD = Qequation(M / d)\n",
    "sampleset = exactSolver.sample_qubo(eD.qubo())\n",
    "samples = [dict(sample) for sample in sampleset.lowest().samples()]\n",
    "eD.set(samples)\n",
    "print(eD.solutions())"
   ]
  },
  {
   "cell_type": "markdown",
   "metadata": {},
   "source": [
    "## Using Constants in a Q equation\n",
    "A definition and use of a constant in d5o is same as definition of any other variable with a deterministic value. In order to easily distinguish constants from variables we recommend following syntax as an example of best coding practice:\n",
    "\n",
    "> _3 = Qvar(\"3_\", 3)\n",
    "\n",
    "Based on above we can make a Q equation such as:"
   ]
  },
  {
   "cell_type": "code",
   "execution_count": 30,
   "metadata": {},
   "outputs": [
    {
     "name": "stdout",
     "output_type": "stream",
     "text": [
      "i = 2; j = 3; 3_ = 3; \n",
      "i = 3; j = 2; 3_ = 3; \n",
      "\n"
     ]
    }
   ],
   "source": [
    "_3 = Qvar(\"3_\", 3)\n",
    "i = Qvar(2, \"i\")\n",
    "j = Qvar(2, \"j\")\n",
    "C = Qvar(\"C\", 15)\n",
    "eC = Qequation(C)\n",
    "eC.assign(_3 * (i + j))\n",
    "sampleset = exactSolver.sample_qubo(eC.qubo())\n",
    "samples = [dict(sample) for sample in sampleset.lowest().samples()]\n",
    "eC.set(samples)\n",
    "print(eC.solutions())"
   ]
  },
  {
   "cell_type": "code",
   "execution_count": null,
   "metadata": {},
   "outputs": [],
   "source": []
  }
 ],
 "metadata": {
  "kernelspec": {
   "display_name": "Python 3",
   "language": "python",
   "name": "python3"
  },
  "language_info": {
   "codemirror_mode": {
    "name": "ipython",
    "version": 3
   },
   "file_extension": ".py",
   "mimetype": "text/x-python",
   "name": "python",
   "nbconvert_exporter": "python",
   "pygments_lexer": "ipython3",
   "version": "3.8.3"
  }
 },
 "nbformat": 4,
 "nbformat_minor": 4
}
