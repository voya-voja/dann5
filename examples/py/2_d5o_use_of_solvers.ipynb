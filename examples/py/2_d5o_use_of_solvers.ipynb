{
 "cells": [
  {
   "cell_type": "markdown",
   "metadata": {},
   "source": [
    "# Dann5 d5o: Use of Solvers\n",
    "\n",
    "**Dann5 d5o programming framework** is an extension of python programming langue. By generalizing D-Wave CSP implementation, it helps QAC programmers develop faster programming logic through use of constructs such as data types definitions, equation and condition statements, programmable routines, functions, and specialized functions.\n",
    "\n",
    "Here, we are continuing an overview of d5o features by:\n",
    "1.\tIntroducing **d5o Qsolverand Qanalyzer**. Qsolver is a local Qubo solver, an alternative to [D-Wave’s ExactSolver]( https://docs.ocean.dwavesys.com/projects/dimod/en/latest/reference/sampler_composites/samplers.html#module-dimod.reference.samplers.exact_solver).\n",
    "2.\texecuting complex d5o equations on QAC using [D-Wave samplers]( https://docs.ocean.dwavesys.com/projects/system/en/stable/reference/samplers.html#dwavesampler); \n",
    "3.\tsolving a large complex d5o equation using [D-Wave hybrid-sampler]( https://docs.ocean.dwavesys.com/projects/system/en/stable/reference/samplers.html#leaphybridsampler);\n",
    "\n",
    "\n",
    "If you have [installed Dann5 d5o library](https://github.com/voya-voja/dann5/blob/master/README.md) and all prerequisites, we can start."
   ]
  },
  {
   "cell_type": "markdown",
   "metadata": {},
   "source": [
    "## d5o Qsolver and Qanalyzer\n",
    "\n",
    "From module *dann5.d5o* we will import **Qsolver and Qanalyser** in addition to *Qvar* and *Qequation* that have been used in the [d5o overview of basic features](https://github.com/voya-voja/dann5/blob/master/examples/py/d5o_basic_features.ipynb).\n",
    "- *Qsolver* is a Qubo solver that runs on a local machine\n",
    "- *Qanalyzer* is a functional object that analyzes Qubo. It has methods to request linear nodes() and quadratic branches() for a given Qubo\n",
    "\n",
    "Also, we will import D-Wave's *ExactSolver* from dimod module. And, we will import *time* module to measure performances of solving Qubo's with different levels of complexity (i.e. higher number of nodes/branches) using local solvers, i.e. Qsolver and ExactSolver, remote QAC samplers, i.e. Advantage and 2000Q, and D-Wave's hybrid solver."
   ]
  },
  {
   "cell_type": "code",
   "execution_count": 1,
   "metadata": {},
   "outputs": [],
   "source": [
    "from dann5.d5o import Qvar, Qequation, Qsolver, Qanalyzer\n",
    "from dimod import ExactSolver\n",
    "import time"
   ]
  },
  {
   "cell_type": "markdown",
   "metadata": {},
   "source": [
    "For a problem:\n",
    "\n",
    "> If **T = 2 * a + b * c**, find all possible solutions when **T = 11** and **a, b, c <= 3**.\n",
    "\n",
    "Like in the [d5o overview of basic features](https://github.com/voya-voja/dann5/blob/master/examples/py/d5o_basic_features.ipynb), we are using python variable **_2**, **a**, **b**, **c** and **T** to reference *Q variables* ***2_***, ***a***, ***b***, ***c*** and ***T*** respectfully, where \n",
    "- Q constant *2_* has a value **2**; \n",
    "- Q variables *a*, *b* and *c* are initialized with **2 Q bits**, i.e. limiting their values to {0, 1, 2, 3}\n",
    "- Q variable *T* is set to **11**, and it is used as a Q equation result.\n",
    "\n",
    "Python variable **eT** references the *Q equation* **T = 2_ * a + b * c**\n",
    "\n",
    "***Note:*** parentheses around multipliers are required in python implementation, *(still to investigate why)*. In C++ implementation they are not required as *multiplication operator has precedence over addition operator*."
   ]
  },
  {
   "cell_type": "code",
   "execution_count": 2,
   "metadata": {},
   "outputs": [
    {
     "name": "stdout",
     "output_type": "stream",
     "text": [
      "| T0 = 1 | = 2_0 & a0 ^ b0 & c0\n",
      "| T1 = 1 | = 2_0 & a1 + 2_1 & a0 + b0 & c1 ^ b1 & c0 ^ #|T0|\n",
      "| T2 = 0 | = 2_1 & a1 + #|2_0 & a1 + 2_1 & a0 + b0 & c1 ^ b1 & c0| + b1 & c1 ^ #|b0 & c1 ^ b1 & c0| ^ #|T1|\n",
      "| T3 = 1 | = #|2_1 & a1 + #|2_0 & a1 + 2_1 & a0 + b0 & c1 ^ b1 & c0| + b1 & c1 ^ #|b0 & c1 ^ b1 & c0|| + #|b1 & c1 ^ #|b0 & c1 ^ b1 & c0|| + #|T2|\n",
      "| T4 = 0 | = #|T3|\n",
      "\n"
     ]
    }
   ],
   "source": [
    "_2 = Qvar(\"2_\",2)\n",
    "a = Qvar(2, \"a\")\n",
    "b = Qvar(2, \"b\")\n",
    "c = Qvar(2, \"c\")\n",
    "T = Qvar(\"T\", 11)\n",
    "eT = Qequation(T)\n",
    "eT.assign((_2 * a) + (b * c))\n",
    "print(eT.toString())"
   ]
  },
  {
   "cell_type": "markdown",
   "metadata": {},
   "source": [
    "To better understand a complexity of the Q equation above, we are analyzing the Qubo generated for the "
   ]
  },
  {
   "cell_type": "code",
   "execution_count": 3,
   "metadata": {},
   "outputs": [
    {
     "name": "stdout",
     "output_type": "stream",
     "text": [
      "number of nodes: 25 has 8,388,658.0 posible solutions\n"
     ]
    }
   ],
   "source": [
    "Q = eT.qubo()\n",
    "analyzer = Qanalyzer(Q)\n",
    "nNo = analyzer.nodesNo()\n",
    "print(\"number of nodes:\", nNo, \"has\", f\"{'{:,}'.format(pow(2,nNo-1)/2 + 2*nNo)}\", \"possible solutions\")"
   ]
  },
  {
   "cell_type": "markdown",
   "metadata": {},
   "source": [
    "***Qsolver*** is a *Qubo solver* that runs on a local machine, it is optimized for solving Qubo by **generating by default sample with lowest energy**. \n",
    "\n",
    "To get a full sampleset use overloaded constructor when creating an instance of Qsolver:\n",
    "> solver = Qsolver(Q, False);"
   ]
  },
  {
   "cell_type": "code",
   "execution_count": 4,
   "metadata": {},
   "outputs": [
    {
     "name": "stdout",
     "output_type": "stream",
     "text": [
      "Qsolver takes 1.609375 seconds to solve problem with 25 nodes\n"
     ]
    }
   ],
   "source": [
    "start = time.process_time()\n",
    "d5oSolver = Qsolver(Q)\n",
    "sample = d5oSolver.solution()\n",
    "finish = time.process_time()\n",
    "print(\"Qsolver takes\", finish - start, \"seconds to solve problem with\", nNo, \"nodes\")"
   ]
  },
  {
   "cell_type": "code",
   "execution_count": 5,
   "metadata": {},
   "outputs": [
    {
     "name": "stdout",
     "output_type": "stream",
     "text": [
      "2_ = 2; a = 1; b = 3; c = 3; \n",
      "\n"
     ]
    }
   ],
   "source": [
    "eT.set(sample)\n",
    "print(eT.solutions())"
   ]
  },
  {
   "cell_type": "markdown",
   "metadata": {},
   "source": [
    "As expected there is only one solution of the problem above, i.e. *a is 1 while b and c are 3*.\n",
    "\n",
    "Now we will execute the same Qubo using ExactSolver.\n",
    "> The next section of code expect **to run between 1 and 2 minutes**, if you are going to run it on Core i7 with 32GB RAM."
   ]
  },
  {
   "cell_type": "code",
   "execution_count": 6,
   "metadata": {},
   "outputs": [
    {
     "name": "stdout",
     "output_type": "stream",
     "text": [
      "ExactSolver takes 74.59375 seconds to solve problem with 25 nodes\n"
     ]
    }
   ],
   "source": [
    "start = time.process_time()\n",
    "dwaveSolver = ExactSolver()\n",
    "sampleset = dwaveSolver.sample_qubo(Q)\n",
    "samples = [dict(sample) for sample in sampleset.lowest().samples()]\n",
    "finish = time.process_time()\n",
    "print(\"ExactSolver takes\", finish - start, \"seconds to solve problem with\", nNo, \"nodes\")"
   ]
  },
  {
   "cell_type": "markdown",
   "metadata": {},
   "source": [
    "In finding a sample with the lowest energy for a given Qubo, Qsolver is ~40 times faster than ExactSolver. Also, ExactSolver allocates significant amount of memory, and for Qubo's with more than 30 nodes it runs out of space on a laptop with 32GB RAM and ~200GB of free hard-disk space."
   ]
  },
  {
   "cell_type": "code",
   "execution_count": 7,
   "metadata": {},
   "outputs": [
    {
     "name": "stdout",
     "output_type": "stream",
     "text": [
      "2_ = 2; a = 1; b = 3; c = 3; \n",
      "\n"
     ]
    }
   ],
   "source": [
    "eT.set(sample)\n",
    "print(eT.solutions())"
   ]
  },
  {
   "cell_type": "markdown",
   "metadata": {},
   "source": [
    "By using d5o we can easily solve on a local machine a problem like:\n",
    "> A school has received 45 tickets for a show. If there are 13 schoolteachers to oversee pupils, with a help of no more than 3 parents, what would be a similar number of boys and girls that can see the show?"
   ]
  },
  {
   "cell_type": "code",
   "execution_count": 8,
   "metadata": {},
   "outputs": [
    {
     "name": "stdout",
     "output_type": "stream",
     "text": [
      "number of nodes: 28 has 67,108,920.0 posible solutions\n"
     ]
    }
   ],
   "source": [
    "girls = Qvar(4, \"girls\")\n",
    "boys = Qvar(4, \"boys\")\n",
    "teachers = Qvar(\"teachers\", 13)\n",
    "parents = Qvar(2, \"parents\")\n",
    "tickets = Qvar(\"tickets\", 45)\n",
    "distribution = Qequation(tickets).assign( girls + boys + teachers + parents )\n",
    "Q = distribution.qubo()\n",
    "nNo = Qanalyzer(Q).nodesNo()\n",
    "print(\"number of nodes:\", nNo, \"has\", f\"{'{:,}'.format(pow(2,nNo-1)/2 + 2*nNo)}\", \"possible solutions\")"
   ]
  },
  {
   "cell_type": "markdown",
   "metadata": {},
   "source": [
    "> The next segment of code expect to run 14+ seconds."
   ]
  },
  {
   "cell_type": "code",
   "execution_count": 9,
   "metadata": {},
   "outputs": [
    {
     "name": "stdout",
     "output_type": "stream",
     "text": [
      "Qsolver takes 14.3125 seconds to solve problem with 28 nodes\n"
     ]
    }
   ],
   "source": [
    "start = time.process_time()\n",
    "d5oSolver = Qsolver(Q)\n",
    "sample = d5oSolver.solution()\n",
    "finish = time.process_time()\n",
    "print(\"Qsolver takes\", finish - start, \"seconds to solve problem with\", nNo, \"nodes\")"
   ]
  },
  {
   "cell_type": "code",
   "execution_count": 10,
   "metadata": {},
   "outputs": [
    {
     "name": "stdout",
     "output_type": "stream",
     "text": [
      "girls = 15; boys = 14; teachers = 13; parents = 3; \n",
      "girls = 14; boys = 15; teachers = 13; parents = 3; \n",
      "girls = 15; boys = 15; teachers = 13; parents = 2; \n",
      "\n"
     ]
    }
   ],
   "source": [
    "distribution.set(sample)\n",
    "print(distribution.solutions())"
   ]
  },
  {
   "cell_type": "markdown",
   "metadata": {},
   "source": [
    "Similarly, *a multiplication Q equation with three Q variables, one a 3 qbit and two 2 qbits variables, will generate* ***a Qubo with 32 nodes***.\n",
    "\n",
    "The problem below is a variation of [D-Wave's Leap factorial problem](https://cloud.dwavesys.com/learning/user/nebojsa_2evojinovic_40rogers_2ecom/notebooks/leap/demos/factoring/01-factoring-overview.ipynb), only here we are finding possible values for 3 Q variables ***x <= 7*** **and** ***y & z <= 3***, **where** ***a result P is 42***."
   ]
  },
  {
   "cell_type": "code",
   "execution_count": 11,
   "metadata": {},
   "outputs": [
    {
     "name": "stdout",
     "output_type": "stream",
     "text": [
      "number of nodes: 32 has 1,073,741,888.0 posible solutions\n"
     ]
    }
   ],
   "source": [
    "x = Qvar(3, \"x\")\n",
    "y = Qvar(2, \"y\")\n",
    "z = Qvar(2, \"z\")\n",
    "P = Qvar(\"P\", 42)\n",
    "eP = Qequation(P).assign(x * y * z)\n",
    "Q = eP.qubo()\n",
    "analyzer = Qanalyzer(Q)\n",
    "nNo = analyzer.nodesNo()\n",
    "print(\"number of nodes:\", nNo, \"has\", f\"{'{:,}'.format(pow(2,nNo-1)/2 + 2*nNo)}\", \"possible solutions\")"
   ]
  },
  {
   "cell_type": "markdown",
   "metadata": {},
   "source": [
    "> On a laptop (Core i7 & 32GB RAM) Qubo with 32 nodes will require a bit less than **5 minutes of computation**."
   ]
  },
  {
   "cell_type": "code",
   "execution_count": 12,
   "metadata": {},
   "outputs": [
    {
     "name": "stdout",
     "output_type": "stream",
     "text": [
      "Qsolver takes 288.171875 seconds to solve problem with 32 nodes\n"
     ]
    }
   ],
   "source": [
    "start = time.process_time()\n",
    "d5oSolver = Qsolver(Q)\n",
    "sample = d5oSolver.solution()\n",
    "finish = time.process_time()\n",
    "print(\"Qsolver takes\", finish - start, \"seconds to solve problem with\", nNo, \"nodes\")"
   ]
  },
  {
   "cell_type": "code",
   "execution_count": 13,
   "metadata": {},
   "outputs": [
    {
     "name": "stdout",
     "output_type": "stream",
     "text": [
      "x = 7; y = 3; z = 2; \n",
      "x = 7; y = 2; z = 3; \n",
      "\n"
     ]
    }
   ],
   "source": [
    "eP.set(sample)\n",
    "print(eP.solutions())"
   ]
  },
  {
   "cell_type": "markdown",
   "metadata": {},
   "source": [
    "## d5o equations on QAC using D-Wave samplers\n",
    "\n",
    "When defining Q variables to solve a problem, it is important to ensure that there is a possible solution within defined Q equation. For example, \n",
    "> if we would like *to rerun the above school trip example for 78 available tickets*, **and we do not adjust variables**, ***we will get a result set that does not make any sense***:"
   ]
  },
  {
   "cell_type": "code",
   "execution_count": 14,
   "metadata": {},
   "outputs": [
    {
     "name": "stdout",
     "output_type": "stream",
     "text": [
      "girls = 0; boys = 0; teachers = 13; parents = 1; \n",
      "girls = 1; boys = 0; teachers = 13; parents = 0; \n",
      "girls = 0; boys = 1; teachers = 13; parents = 0; \n",
      "\n"
     ]
    }
   ],
   "source": [
    "tickets = Qvar(\"tickets\", 78)\n",
    "distribution = Qequation(tickets).assign( girls + boys + teachers + parents )\n",
    "Q = distribution.qubo()\n",
    "d5oSolver = Qsolver(Q)\n",
    "sample = d5oSolver.solution()\n",
    "distribution.set(sample)\n",
    "print(distribution.solutions())"
   ]
  },
  {
   "cell_type": "markdown",
   "metadata": {},
   "source": [
    "Obviously we need to adjust *the size of ***girls and boys*** Q variables*! However, this will result in Qubo with 33 nodes. "
   ]
  },
  {
   "cell_type": "code",
   "execution_count": 15,
   "metadata": {},
   "outputs": [
    {
     "name": "stdout",
     "output_type": "stream",
     "text": [
      "number of nodes: 33 has 2,147,483,714.0 posible solutions\n"
     ]
    }
   ],
   "source": [
    "girls = Qvar(5, \"girls\")\n",
    "boys = Qvar(5, \"boys\")\n",
    "teachers = Qvar(\"teachers\", 13)\n",
    "parents = Qvar(2, \"parents\")\n",
    "tickets = Qvar(\"tickets\", 78)\n",
    "distribution = Qequation(tickets).assign( girls + boys + teachers + parents )\n",
    "Q = distribution.qubo()\n",
    "nNo = Qanalyzer(Q).nodesNo()\n",
    "print(\"number of nodes:\", nNo`, \"has\", f\"{'{:,}'.format(pow(2,nNo-1)/2 + 2*nNo)}\", \"possible solutions\")"
   ]
  },
  {
   "cell_type": "markdown",
   "metadata": {},
   "source": [
    "> On my laptop using d5o.Qsolver **the next section of code will take close to 10 minutes** to solve the Qubo with 33 nodes."
   ]
  },
  {
   "cell_type": "code",
   "execution_count": 16,
   "metadata": {},
   "outputs": [
    {
     "name": "stdout",
     "output_type": "stream",
     "text": [
      "Qsolver takes 599.28125 seconds to solve problem with 33 nodes\n"
     ]
    }
   ],
   "source": [
    "start = time.process_time()\n",
    "d5oSolver = Qsolver(Q)\n",
    "sample = d5oSolver.solution()\n",
    "finish = time.process_time()\n",
    "print(\"Qsolver takes\", finish - start, \"seconds to solve problem with\", nNo, \"nodes\")"
   ]
  },
  {
   "cell_type": "code",
   "execution_count": 17,
   "metadata": {},
   "outputs": [
    {
     "name": "stdout",
     "output_type": "stream",
     "text": [
      "girls = 31; boys = 31; teachers = 13; parents = 3; \n",
      "\n"
     ]
    }
   ],
   "source": [
    "distribution.set(sample)\n",
    "print(distribution.solutions())"
   ]
  },
  {
   "cell_type": "markdown",
   "metadata": {},
   "source": [
    "> To avoid waiting so long in the future, I will use D-Wave Ocean sampler API to conenct to QACs to process my problem."
   ]
  },
  {
   "cell_type": "code",
   "execution_count": 18,
   "metadata": {},
   "outputs": [],
   "source": [
    "from dwave.system import DWaveSampler, EmbeddingComposite\n",
    "from dwave.cloud.exceptions import SolverNotFoundError"
   ]
  },
  {
   "cell_type": "markdown",
   "metadata": {},
   "source": [
    "To learn more about how to work with [different topologies](https://docs.ocean.dwavesys.com/en/stable/examples/topology_samplers.html) review D-Wave documentation. In this example we are connecting to both:\n",
    "- advanatage QAC instance with pegasus topology, and\n",
    "- 2000Q QAC instance with chimera topology"
   ]
  },
  {
   "cell_type": "code",
   "execution_count": 19,
   "metadata": {},
   "outputs": [
    {
     "name": "stdout",
     "output_type": "stream",
     "text": [
      "Connected to Advantage Advantage_system1.1 and 2000Q DW_2000Q_6.\n"
     ]
    }
   ],
   "source": [
    "try:\n",
    "    qpu_advantage = DWaveSampler(solver={'topology__type': 'pegasus', 'qpu': True})\n",
    "    qpu_2000q = DWaveSampler(solver={'topology__type': 'chimera', 'qpu': True})\n",
    "    \n",
    "    qpus = {'Advantage': qpu_advantage, 'DW-2000Q': qpu_2000q}\n",
    "\n",
    "    print(\"Connected to Advantage {} and 2000Q {}.\".format(qpu_advantage.solver.id, qpu_2000q.solver.id))\n",
    "except SolverNotFoundError:\n",
    "    print(\"Currently a pair of solvers are unavailable for sections comparing QPU technologies. Try those examples later.\")"
   ]
  },
  {
   "cell_type": "markdown",
   "metadata": {},
   "source": [
    "Now that we are connected to Advantage and 2000Q QACs, we can start by crating ***advantage*** solver by using D-Wave's composite [embedding](https://docs.ocean.dwavesys.com/projects/system/en/stable/reference/embedding.html) of our Qubo to pegasus topology."
   ]
  },
  {
   "cell_type": "code",
   "execution_count": 20,
   "metadata": {},
   "outputs": [],
   "source": [
    "advantage = EmbeddingComposite(qpu_advantage)"
   ]
  },
  {
   "cell_type": "markdown",
   "metadata": {},
   "source": [
    "For the ***advantage*** solver let prepare arguments for remote processing, i.e. **let set** ***kwargs***.\n",
    "- ***kwargs*** *represents optional keyword arguments for the sampling method, specified per [solver](https://docs.dwavesys.com/docs/latest/doc_solver_ref.html) in parameters*. \n",
    "\n",
    "The arguments used in this example are self explanatory.\n",
    "\n",
    "> I am founding that ***chain strenght 5*** works well for these kind of problems on pegasus topology."
   ]
  },
  {
   "cell_type": "code",
   "execution_count": 21,
   "metadata": {},
   "outputs": [],
   "source": [
    "kwargs = {}\n",
    "if 'num_reads' in advantage.parameters:\n",
    "    kwargs['num_reads'] = 100\n",
    "if 'answer_mode' in advantage.parameters:\n",
    "    kwargs['answer_mode'] = 'histogram'\n",
    "if 'chain_strength' in advantage.parameters:\n",
    "    kwargs['chain_strength'] = 5"
   ]
  },
  {
   "cell_type": "code",
   "execution_count": 22,
   "metadata": {},
   "outputs": [
    {
     "name": "stdout",
     "output_type": "stream",
     "text": [
      "Qsolver takes 0.375 seconds to solve problem with 33 nodes\n"
     ]
    }
   ],
   "source": [
    "start = time.process_time()\n",
    "sampleset = advantage.sample_qubo(Q, **kwargs)\n",
    "samples = [dict(sample) for sample in sampleset.lowest().samples()]\n",
    "finish = time.process_time()\n",
    "print(\"Qsolver takes\", finish - start, \"seconds to solve problem with\", nNo, \"nodes\")"
   ]
  },
  {
   "cell_type": "code",
   "execution_count": 23,
   "metadata": {},
   "outputs": [
    {
     "name": "stdout",
     "output_type": "stream",
     "text": [
      "girls = 31; boys = 31; teachers = 13; parents = 3; \n",
      "\n"
     ]
    }
   ],
   "source": [
    "distribution.set(sample)\n",
    "print(distribution.solutions())"
   ]
  },
  {
   "cell_type": "markdown",
   "metadata": {},
   "source": [
    "Running *same kwargs* on **2000Q chimera topology**."
   ]
  },
  {
   "cell_type": "code",
   "execution_count": 24,
   "metadata": {},
   "outputs": [
    {
     "name": "stdout",
     "output_type": "stream",
     "text": [
      "Qsolver takes 0.296875 seconds to solve problem with 33 nodes\n"
     ]
    }
   ],
   "source": [
    "start = time.process_time()\n",
    "dw2000q = EmbeddingComposite(qpu_2000q)\n",
    "sampleset = dw2000q.sample_qubo(Q, **kwargs)\n",
    "samples = [dict(sample) for sample in sampleset.lowest().samples()]\n",
    "finish = time.process_time()\n",
    "print(\"Qsolver takes\", finish - start, \"seconds to solve problem with\", nNo, \"nodes\")"
   ]
  },
  {
   "cell_type": "code",
   "execution_count": 25,
   "metadata": {},
   "outputs": [
    {
     "name": "stdout",
     "output_type": "stream",
     "text": [
      "girls = 31; boys = 31; teachers = 13; parents = 3; \n",
      "\n"
     ]
    }
   ],
   "source": [
    "distribution.set(sample)\n",
    "print(distribution.solutions())"
   ]
  },
  {
   "cell_type": "markdown",
   "metadata": {},
   "source": [
    "> The same ***chain strenght 5*** produced correct result on **chimera topology** as it did on *pegasus*.\n",
    "\n",
    "As expected, on both QAC topologies it took a fraction of a second with all latencies of a remote API to solve a Qubo problem with 33 nodes."
   ]
  },
  {
   "cell_type": "code",
   "execution_count": 32,
   "metadata": {},
   "outputs": [
    {
     "name": "stdout",
     "output_type": "stream",
     "text": [
      "number of nodes: 165 has 1.1692013098647223e+49 posible solutions\n"
     ]
    }
   ],
   "source": [
    "factor1 = Qvar(5, \"f1\")\n",
    "factor2 = Qvar(5, \"f2\")\n",
    "factor3 = Qvar(4, \"f3\")\n",
    "product = Qvar(\"P\", 13020)\n",
    "eProduct = Qequation(product).assign(factor1 * factor2 * factor3)\n",
    "Q = eProduct.qubo()\n",
    "nNo = Qanalyzer(Q).nodesNo()\n",
    "print(\"number of nodes:\", nNo, \"has\", f\"{'{:,}'.format(pow(2,nNo-1)/2 + 2*nNo)}\", \"possible solutions\")"
   ]
  },
  {
   "cell_type": "code",
   "execution_count": 33,
   "metadata": {},
   "outputs": [
    {
     "name": "stdout",
     "output_type": "stream",
     "text": [
      "Qsolver takes 9.078125 seconds to solve problem with 165 nodes\n"
     ]
    }
   ],
   "source": [
    "start = time.process_time()\n",
    "sampleset = advantage.sample_qubo(Q, **kwargs)\n",
    "samples = [dict(sample) for sample in sampleset.lowest().samples()]\n",
    "finish = time.process_time()\n",
    "print(\"Qsolver takes\", finish - start, \"seconds to solve problem with\", nNo, \"nodes\")"
   ]
  },
  {
   "cell_type": "code",
   "execution_count": 34,
   "metadata": {},
   "outputs": [
    {
     "name": "stdout",
     "output_type": "stream",
     "text": [
      "f1 = 0; f2 = 0; f3 = 0; \n",
      "\n"
     ]
    }
   ],
   "source": [
    "eProduct.set(sample)\n",
    "print(eProduct.solutions())"
   ]
  },
  {
   "cell_type": "markdown",
   "metadata": {},
   "source": [
    "## d5o equations using D-Wave hybrid solver\n"
   ]
  },
  {
   "cell_type": "code",
   "execution_count": 35,
   "metadata": {},
   "outputs": [],
   "source": [
    "from dwave.system.samplers import LeapHybridSampler\n",
    "hybrid = LeapHybridSampler()"
   ]
  },
  {
   "cell_type": "code",
   "execution_count": 38,
   "metadata": {},
   "outputs": [
    {
     "name": "stdout",
     "output_type": "stream",
     "text": [
      "Qsolver takes 1.203125 seconds to solve problem with 165 nodes\n"
     ]
    }
   ],
   "source": [
    "start = time.process_time()\n",
    "sampleset = hybrid.sample_qubo(Q)\n",
    "samples = [dict(sample) for sample in sampleset.lowest().samples()]\n",
    "finish = time.process_time()\n",
    "print(\"Qsolver takes\", finish - start, \"seconds to solve problem with\", nNo, \"nodes\")"
   ]
  },
  {
   "cell_type": "code",
   "execution_count": 39,
   "metadata": {},
   "outputs": [
    {
     "name": "stdout",
     "output_type": "stream",
     "text": [
      "f1 = 0; f2 = 0; f3 = 0; \n",
      "\n"
     ]
    }
   ],
   "source": [
    "eProduct.set(sample)\n",
    "print(eProduct.solutions())"
   ]
  },
  {
   "cell_type": "code",
   "execution_count": null,
   "metadata": {},
   "outputs": [],
   "source": []
  }
 ],
 "metadata": {
  "kernelspec": {
   "display_name": "Python 3",
   "language": "python",
   "name": "python3"
  },
  "language_info": {
   "codemirror_mode": {
    "name": "ipython",
    "version": 3
   },
   "file_extension": ".py",
   "mimetype": "text/x-python",
   "name": "python",
   "nbconvert_exporter": "python",
   "pygments_lexer": "ipython3",
   "version": "3.8.3"
  }
 },
 "nbformat": 4,
 "nbformat_minor": 4
}
